{
 "cells": [
  {
   "cell_type": "code",
   "execution_count": 1,
   "id": "0379f187-d975-4a02-9fcd-2f426613d4b8",
   "metadata": {},
   "outputs": [],
   "source": [
    "import pandas as pd\n",
    "import time\n",
    "from selenium import webdriver\n",
    "from webdriver_manager.chrome import ChromeDriverManager\n",
    "from selenium.webdriver.chrome.options import Options\n",
    "import os\n",
    "import logging\n",
    "\n"
   ]
  },
  {
   "cell_type": "code",
   "execution_count": 2,
   "id": "1eca894d-cd26-4182-89a9-50126a25b2ea",
   "metadata": {},
   "outputs": [],
   "source": [
    "\n",
    "# Create driver\n",
    "# from selenium import webdriver\n",
    "# from selenium.webdriver.chrome.options import Options\n",
    " \n",
    "chrome_options = Options()\n",
    "#argument to switch off suid sandBox and no sandBox in Chrome \n",
    "chrome_options.add_argument(\"--no-sandbox\")\n",
    "chrome_options.add_argument(\"--disable-setuid-sandbox\")\n",
    " \n",
    "\n",
    "# Go to the characters in books page\n",
    "page_url = \"https://witcher.fandom.com/wiki/Category:Characters_in_the_stories\"\n"
   ]
  },
  {
   "cell_type": "code",
   "execution_count": 5,
   "id": "aa2040cf-ad03-47fc-836a-402575409766",
   "metadata": {},
   "outputs": [
    {
     "name": "stderr",
     "output_type": "stream",
     "text": [
      "C:\\Users\\User\\AppData\\Local\\Temp\\ipykernel_18196\\1904593822.py:1: DeprecationWarning: executable_path has been deprecated, please pass in a Service object\n",
      "  driver = webdriver.Chrome(\"chromedriver.exe\",chrome_options=chrome_options)\n",
      "C:\\Users\\User\\AppData\\Local\\Temp\\ipykernel_18196\\1904593822.py:1: DeprecationWarning: use options instead of chrome_options\n",
      "  driver = webdriver.Chrome(\"chromedriver.exe\",chrome_options=chrome_options)\n"
     ]
    }
   ],
   "source": [
    "driver = webdriver.Chrome(\"chromedriver.exe\",chrome_options=chrome_options)\n",
    "driver.maximize_window() # For maximizing window\n",
    " # gives an implicit wait for 20 seconds\n",
    "\n",
    "driver.get(page_url)\n",
    "driver.implicitly_wait(40)\n"
   ]
  },
  {
   "cell_type": "code",
   "execution_count": 6,
   "id": "25464063-89e1-44de-bf0f-dbb4914b212d",
   "metadata": {},
   "outputs": [],
   "source": [
    "from selenium.webdriver.common.by import By\n",
    "book_categories = driver.find_elements(\"class name\", \"category-page__member-link\")\n",
    "books = []\n",
    "for book in book_categories:\n",
    "    book_url = book.get_attribute('href')\n",
    "    book_name = book.text\n",
    "    books.append({'book_name':book_name,'book_url':book_url})\n",
    "    \n"
   ]
  },
  {
   "cell_type": "code",
   "execution_count": 7,
   "id": "247327a9-353f-4c78-954d-4d8d78f9183d",
   "metadata": {},
   "outputs": [
    {
     "data": {
      "text/plain": [
       "[{'book_name': 'Category:Baptism of Fire characters',\n",
       "  'book_url': 'https://witcher.fandom.com/wiki/Category:Baptism_of_Fire_characters'},\n",
       " {'book_name': 'Category:Blood of Elves characters',\n",
       "  'book_url': 'https://witcher.fandom.com/wiki/Category:Blood_of_Elves_characters'},\n",
       " {'book_name': \"Godamba Thaess'en\",\n",
       "  'book_url': 'https://witcher.fandom.com/wiki/Godamba_Thaess%27en'},\n",
       " {'book_name': 'Category:Season of Storms characters',\n",
       "  'book_url': 'https://witcher.fandom.com/wiki/Category:Season_of_Storms_characters'},\n",
       " {'book_name': 'Category:Something Ends, Something Begins characters',\n",
       "  'book_url': 'https://witcher.fandom.com/wiki/Category:Something_Ends,_Something_Begins_characters'},\n",
       " {'book_name': 'Category:Sword of Destiny characters',\n",
       "  'book_url': 'https://witcher.fandom.com/wiki/Category:Sword_of_Destiny_characters'},\n",
       " {'book_name': 'Category:Szpony i kły characters',\n",
       "  'book_url': 'https://witcher.fandom.com/wiki/Category:Szpony_i_k%C5%82y_characters'},\n",
       " {'book_name': 'Category:Tales from the world of The Witcher characters',\n",
       "  'book_url': 'https://witcher.fandom.com/wiki/Category:Tales_from_the_world_of_The_Witcher_characters'},\n",
       " {'book_name': 'Category:The Lady of the Lake characters',\n",
       "  'book_url': 'https://witcher.fandom.com/wiki/Category:The_Lady_of_the_Lake_characters'},\n",
       " {'book_name': 'Category:The Last Wish characters',\n",
       "  'book_url': 'https://witcher.fandom.com/wiki/Category:The_Last_Wish_characters'},\n",
       " {'book_name': 'Category:The Tower of the Swallow characters',\n",
       "  'book_url': 'https://witcher.fandom.com/wiki/Category:The_Tower_of_the_Swallow_characters'},\n",
       " {'book_name': 'Category:Time of Contempt characters',\n",
       "  'book_url': 'https://witcher.fandom.com/wiki/Category:Time_of_Contempt_characters'}]"
      ]
     },
     "execution_count": 7,
     "metadata": {},
     "output_type": "execute_result"
    }
   ],
   "source": [
    "books"
   ]
  },
  {
   "cell_type": "code",
   "execution_count": null,
   "id": "10ac5576-9946-4390-a3f1-b69543ff5425",
   "metadata": {},
   "outputs": [],
   "source": [
    "character_list = []\n",
    "for book in books:\n",
    "    driver.get(book['book_url'])\n",
    "    character_elems = driver.find_elements('class name','category-page__member-link')\n",
    "    for element in character_elems:\n",
    "        character_list.append({'book':book['book_name'],'character':element.text})\n",
    "        "
   ]
  },
  {
   "cell_type": "code",
   "execution_count": null,
   "id": "471d0104-171f-4649-97e4-a9b7e1728e96",
   "metadata": {},
   "outputs": [],
   "source": [
    "pd.DataFrame(character_list)"
   ]
  },
  {
   "cell_type": "code",
   "execution_count": null,
   "id": "c143dfbe-7b9f-4641-80ff-9d477e552b69",
   "metadata": {},
   "outputs": [],
   "source": []
  }
 ],
 "metadata": {
  "kernelspec": {
   "display_name": "Python 3 (ipykernel)",
   "language": "python",
   "name": "python3"
  },
  "language_info": {
   "codemirror_mode": {
    "name": "ipython",
    "version": 3
   },
   "file_extension": ".py",
   "mimetype": "text/x-python",
   "name": "python",
   "nbconvert_exporter": "python",
   "pygments_lexer": "ipython3",
   "version": "3.10.6"
  }
 },
 "nbformat": 4,
 "nbformat_minor": 5
}
